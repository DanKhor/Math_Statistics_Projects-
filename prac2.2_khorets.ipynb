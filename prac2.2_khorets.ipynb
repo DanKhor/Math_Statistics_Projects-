{
 "cells": [
  {
   "cell_type": "code",
   "execution_count": 5,
   "metadata": {},
   "outputs": [],
   "source": [
    "import pandas as pd\n",
    "import numpy as np \n",
    "import scipy.special as sp\n",
    "import math \n",
    "\n",
    "def V_n(n):\n",
    "    return math.pi**(n / 2) / sp.gamma(n/2 + 1)\n",
    "\n",
    "def D_n(n):\n",
    "    return (V_n(n) / 2**n) * (1 - V_n(n) / 2**n)\n",
    "#   return 0.01   "
   ]
  },
  {
   "cell_type": "code",
   "execution_count": 6,
   "metadata": {},
   "outputs": [],
   "source": [
    "def N_n(n):\n",
    "    return math.ceil(9 * 10**6 * D_n(n))"
   ]
  },
  {
   "cell_type": "code",
   "execution_count": 7,
   "metadata": {},
   "outputs": [],
   "source": [
    "def V_calc(n):\n",
    "    points = 2*np.random.random((N_n(n), n)) - 1\n",
    "    N_sphere = 0\n",
    "    for pt in points:\n",
    "        if sum([pt[i]**n for i in range(n)]) <= 1:\n",
    "            N_sphere += 1 \n",
    "    return ((N_sphere * 2**n) / N_n(n))"
   ]
  },
  {
   "cell_type": "code",
   "execution_count": 12,
   "metadata": {},
   "outputs": [],
   "source": [
    "volumes = pd.DataFrame({'n': list(range(2,10)) + [10, 20, 30], 'Monte-Karlo': [V_calc(n) for n in list(range(2,10)) + [10, 20, 30]], 'Volume': [V_n(n) for n in list(range(2,10)) + [10,20,30]]})\n",
    "volumes['attitude_p'] = volumes['Monte-Karlo'] * 100 / volumes['Volume']\n",
    "volumes['abs_difference'] = abs(volumes['Monte-Karlo'] - volumes['Volume'])"
   ]
  },
  {
   "cell_type": "code",
   "execution_count": 13,
   "metadata": {
    "scrolled": true
   },
   "outputs": [
    {
     "data": {
      "text/html": [
       "<div>\n",
       "<style scoped>\n",
       "    .dataframe tbody tr th:only-of-type {\n",
       "        vertical-align: middle;\n",
       "    }\n",
       "\n",
       "    .dataframe tbody tr th {\n",
       "        vertical-align: top;\n",
       "    }\n",
       "\n",
       "    .dataframe thead th {\n",
       "        text-align: right;\n",
       "    }\n",
       "</style>\n",
       "<table border=\"1\" class=\"dataframe\">\n",
       "  <thead>\n",
       "    <tr style=\"text-align: right;\">\n",
       "      <th></th>\n",
       "      <th>n</th>\n",
       "      <th>Monte-Karlo</th>\n",
       "      <th>Volume</th>\n",
       "      <th>attitude_p</th>\n",
       "      <th>abs_difference</th>\n",
       "    </tr>\n",
       "  </thead>\n",
       "  <tbody>\n",
       "    <tr>\n",
       "      <th>0</th>\n",
       "      <td>2</td>\n",
       "      <td>3.140910e+00</td>\n",
       "      <td>3.141593</td>\n",
       "      <td>9.997828e+01</td>\n",
       "      <td>6.824869e-04</td>\n",
       "    </tr>\n",
       "    <tr>\n",
       "      <th>1</th>\n",
       "      <td>3</td>\n",
       "      <td>7.509517e+00</td>\n",
       "      <td>4.188790</td>\n",
       "      <td>1.792765e+02</td>\n",
       "      <td>3.320727e+00</td>\n",
       "    </tr>\n",
       "    <tr>\n",
       "      <th>2</th>\n",
       "      <td>4</td>\n",
       "      <td>1.080401e+01</td>\n",
       "      <td>4.934802</td>\n",
       "      <td>2.189350e+02</td>\n",
       "      <td>5.869206e+00</td>\n",
       "    </tr>\n",
       "    <tr>\n",
       "      <th>3</th>\n",
       "      <td>5</td>\n",
       "      <td>2.986734e+01</td>\n",
       "      <td>5.263789</td>\n",
       "      <td>5.674115e+02</td>\n",
       "      <td>2.460356e+01</td>\n",
       "    </tr>\n",
       "    <tr>\n",
       "      <th>4</th>\n",
       "      <td>6</td>\n",
       "      <td>4.074832e+01</td>\n",
       "      <td>5.167713</td>\n",
       "      <td>7.885176e+02</td>\n",
       "      <td>3.558061e+01</td>\n",
       "    </tr>\n",
       "    <tr>\n",
       "      <th>5</th>\n",
       "      <td>7</td>\n",
       "      <td>1.193082e+02</td>\n",
       "      <td>4.724766</td>\n",
       "      <td>2.525166e+03</td>\n",
       "      <td>1.145834e+02</td>\n",
       "    </tr>\n",
       "    <tr>\n",
       "      <th>6</th>\n",
       "      <td>8</td>\n",
       "      <td>1.588608e+02</td>\n",
       "      <td>4.058712</td>\n",
       "      <td>3.914070e+03</td>\n",
       "      <td>1.548021e+02</td>\n",
       "    </tr>\n",
       "    <tr>\n",
       "      <th>7</th>\n",
       "      <td>9</td>\n",
       "      <td>4.754279e+02</td>\n",
       "      <td>3.298509</td>\n",
       "      <td>1.441342e+04</td>\n",
       "      <td>4.721294e+02</td>\n",
       "    </tr>\n",
       "    <tr>\n",
       "      <th>8</th>\n",
       "      <td>10</td>\n",
       "      <td>6.256760e+02</td>\n",
       "      <td>2.550164</td>\n",
       "      <td>2.453474e+04</td>\n",
       "      <td>6.231258e+02</td>\n",
       "    </tr>\n",
       "    <tr>\n",
       "      <th>9</th>\n",
       "      <td>20</td>\n",
       "      <td>1.048576e+06</td>\n",
       "      <td>0.025807</td>\n",
       "      <td>4.063163e+09</td>\n",
       "      <td>1.048576e+06</td>\n",
       "    </tr>\n",
       "    <tr>\n",
       "      <th>10</th>\n",
       "      <td>30</td>\n",
       "      <td>0.000000e+00</td>\n",
       "      <td>0.000022</td>\n",
       "      <td>0.000000e+00</td>\n",
       "      <td>2.191535e-05</td>\n",
       "    </tr>\n",
       "  </tbody>\n",
       "</table>\n",
       "</div>"
      ],
      "text/plain": [
       "     n   Monte-Karlo    Volume    attitude_p  abs_difference\n",
       "0    2  3.140910e+00  3.141593  9.997828e+01    6.824869e-04\n",
       "1    3  7.509517e+00  4.188790  1.792765e+02    3.320727e+00\n",
       "2    4  1.080401e+01  4.934802  2.189350e+02    5.869206e+00\n",
       "3    5  2.986734e+01  5.263789  5.674115e+02    2.460356e+01\n",
       "4    6  4.074832e+01  5.167713  7.885176e+02    3.558061e+01\n",
       "5    7  1.193082e+02  4.724766  2.525166e+03    1.145834e+02\n",
       "6    8  1.588608e+02  4.058712  3.914070e+03    1.548021e+02\n",
       "7    9  4.754279e+02  3.298509  1.441342e+04    4.721294e+02\n",
       "8   10  6.256760e+02  2.550164  2.453474e+04    6.231258e+02\n",
       "9   20  1.048576e+06  0.025807  4.063163e+09    1.048576e+06\n",
       "10  30  0.000000e+00  0.000022  0.000000e+00    2.191535e-05"
      ]
     },
     "metadata": {},
     "output_type": "display_data"
    }
   ],
   "source": [
    "display(volumes)"
   ]
  },
  {
   "cell_type": "code",
   "execution_count": null,
   "metadata": {},
   "outputs": [],
   "source": []
  }
 ],
 "metadata": {
  "kernelspec": {
   "display_name": "Python 3",
   "language": "python",
   "name": "python3"
  },
  "language_info": {
   "codemirror_mode": {
    "name": "ipython",
    "version": 3
   },
   "file_extension": ".py",
   "mimetype": "text/x-python",
   "name": "python",
   "nbconvert_exporter": "python",
   "pygments_lexer": "ipython3",
   "version": "3.7.6"
  }
 },
 "nbformat": 4,
 "nbformat_minor": 4
}
