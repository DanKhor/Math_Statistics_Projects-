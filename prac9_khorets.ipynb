{
 "cells": [
  {
   "cell_type": "code",
   "execution_count": 1,
   "metadata": {},
   "outputs": [],
   "source": [
    "import pandas as pd\n",
    "import numpy as np \n",
    "import matplotlib.pyplot as plt\n",
    "import scipy.stats as sts \n",
    "plt.style.use('ggplot')"
   ]
  },
  {
   "cell_type": "code",
   "execution_count": 2,
   "metadata": {
    "scrolled": false
   },
   "outputs": [],
   "source": [
    "priem = pd.read_csv('Priem_utf.csv', sep=';')"
   ]
  },
  {
   "cell_type": "code",
   "execution_count": 3,
   "metadata": {},
   "outputs": [
    {
     "data": {
      "text/html": [
       "<div>\n",
       "<style scoped>\n",
       "    .dataframe tbody tr th:only-of-type {\n",
       "        vertical-align: middle;\n",
       "    }\n",
       "\n",
       "    .dataframe tbody tr th {\n",
       "        vertical-align: top;\n",
       "    }\n",
       "\n",
       "    .dataframe thead th {\n",
       "        text-align: right;\n",
       "    }\n",
       "</style>\n",
       "<table border=\"1\" class=\"dataframe\">\n",
       "  <thead>\n",
       "    <tr style=\"text-align: right;\">\n",
       "      <th></th>\n",
       "      <th>Пол</th>\n",
       "      <th>Сумма.баллов</th>\n",
       "      <th>ЕГЭ...матем.</th>\n",
       "      <th>ЕГЭ...рус.яз.</th>\n",
       "      <th>Аттестат.с.отличием.оценка</th>\n",
       "      <th>ГТО.оценка</th>\n",
       "      <th>Сочинение.оценка</th>\n",
       "      <th>Регион</th>\n",
       "      <th>Тип.насел..пункта</th>\n",
       "      <th>Дата.рождения</th>\n",
       "      <th>День.рождения</th>\n",
       "      <th>Месяц.рождения</th>\n",
       "    </tr>\n",
       "  </thead>\n",
       "  <tbody>\n",
       "    <tr>\n",
       "      <th>0</th>\n",
       "      <td>МУЖСКОЙ</td>\n",
       "      <td>388</td>\n",
       "      <td>90.0</td>\n",
       "      <td>98.0</td>\n",
       "      <td>5</td>\n",
       "      <td>0</td>\n",
       "      <td>1</td>\n",
       "      <td>Красноярский край</td>\n",
       "      <td>ГОРОД</td>\n",
       "      <td>24.09.1998</td>\n",
       "      <td>24</td>\n",
       "      <td>9</td>\n",
       "    </tr>\n",
       "    <tr>\n",
       "      <th>1</th>\n",
       "      <td>ЖЕНСКИЙ</td>\n",
       "      <td>351</td>\n",
       "      <td>84.0</td>\n",
       "      <td>87.0</td>\n",
       "      <td>0</td>\n",
       "      <td>0</td>\n",
       "      <td>2</td>\n",
       "      <td>Чувашская Респ</td>\n",
       "      <td>ЦЕНТР СУБЪЕКТА ФЕДЕРАЦИИ</td>\n",
       "      <td>14.02.1997</td>\n",
       "      <td>14</td>\n",
       "      <td>2</td>\n",
       "    </tr>\n",
       "    <tr>\n",
       "      <th>2</th>\n",
       "      <td>ЖЕНСКИЙ</td>\n",
       "      <td>355</td>\n",
       "      <td>94.0</td>\n",
       "      <td>91.0</td>\n",
       "      <td>5</td>\n",
       "      <td>0</td>\n",
       "      <td>2</td>\n",
       "      <td>Москва г</td>\n",
       "      <td>ГОРОД ФЕДЕРАЛЬНОГО ЗНАЧЕНИЯ</td>\n",
       "      <td>25.03.2000</td>\n",
       "      <td>25</td>\n",
       "      <td>3</td>\n",
       "    </tr>\n",
       "    <tr>\n",
       "      <th>3</th>\n",
       "      <td>ЖЕНСКИЙ</td>\n",
       "      <td>338</td>\n",
       "      <td>76.0</td>\n",
       "      <td>88.0</td>\n",
       "      <td>5</td>\n",
       "      <td>0</td>\n",
       "      <td>2</td>\n",
       "      <td>Москва г</td>\n",
       "      <td>ГОРОД ФЕДЕРАЛЬНОГО ЗНАЧЕНИЯ</td>\n",
       "      <td>19.11.1999</td>\n",
       "      <td>19</td>\n",
       "      <td>11</td>\n",
       "    </tr>\n",
       "    <tr>\n",
       "      <th>4</th>\n",
       "      <td>МУЖСКОЙ</td>\n",
       "      <td>349</td>\n",
       "      <td>82.0</td>\n",
       "      <td>93.0</td>\n",
       "      <td>5</td>\n",
       "      <td>0</td>\n",
       "      <td>2</td>\n",
       "      <td>Москва г</td>\n",
       "      <td>ГОРОД ФЕДЕРАЛЬНОГО ЗНАЧЕНИЯ</td>\n",
       "      <td>12.12.1999</td>\n",
       "      <td>12</td>\n",
       "      <td>12</td>\n",
       "    </tr>\n",
       "  </tbody>\n",
       "</table>\n",
       "</div>"
      ],
      "text/plain": [
       "       Пол  Сумма.баллов  ЕГЭ...матем.  ЕГЭ...рус.яз.  \\\n",
       "0  МУЖСКОЙ           388          90.0           98.0   \n",
       "1  ЖЕНСКИЙ           351          84.0           87.0   \n",
       "2  ЖЕНСКИЙ           355          94.0           91.0   \n",
       "3  ЖЕНСКИЙ           338          76.0           88.0   \n",
       "4  МУЖСКОЙ           349          82.0           93.0   \n",
       "\n",
       "   Аттестат.с.отличием.оценка  ГТО.оценка  Сочинение.оценка  \\\n",
       "0                           5           0                 1   \n",
       "1                           0           0                 2   \n",
       "2                           5           0                 2   \n",
       "3                           5           0                 2   \n",
       "4                           5           0                 2   \n",
       "\n",
       "              Регион            Тип.насел..пункта Дата.рождения  \\\n",
       "0  Красноярский край                        ГОРОД    24.09.1998   \n",
       "1     Чувашская Респ     ЦЕНТР СУБЪЕКТА ФЕДЕРАЦИИ    14.02.1997   \n",
       "2           Москва г  ГОРОД ФЕДЕРАЛЬНОГО ЗНАЧЕНИЯ    25.03.2000   \n",
       "3           Москва г  ГОРОД ФЕДЕРАЛЬНОГО ЗНАЧЕНИЯ    19.11.1999   \n",
       "4           Москва г  ГОРОД ФЕДЕРАЛЬНОГО ЗНАЧЕНИЯ    12.12.1999   \n",
       "\n",
       "   День.рождения  Месяц.рождения  \n",
       "0             24               9  \n",
       "1             14               2  \n",
       "2             25               3  \n",
       "3             19              11  \n",
       "4             12              12  "
      ]
     },
     "execution_count": 3,
     "metadata": {},
     "output_type": "execute_result"
    }
   ],
   "source": [
    "priem.head()"
   ]
  },
  {
   "cell_type": "code",
   "execution_count": 4,
   "metadata": {},
   "outputs": [
    {
     "data": {
      "text/plain": [
       "Index(['Пол', 'Сумма.баллов', 'ЕГЭ...матем.', 'ЕГЭ...рус.яз.',\n",
       "       'Аттестат.с.отличием.оценка', 'ГТО.оценка', 'Сочинение.оценка',\n",
       "       'Регион', 'Тип.насел..пункта', 'Дата.рождения', 'День.рождения',\n",
       "       'Месяц.рождения'],\n",
       "      dtype='object')"
      ]
     },
     "execution_count": 4,
     "metadata": {},
     "output_type": "execute_result"
    }
   ],
   "source": [
    "priem.columns"
   ]
  },
  {
   "cell_type": "code",
   "execution_count": 5,
   "metadata": {},
   "outputs": [
    {
     "name": "stdout",
     "output_type": "stream",
     "text": [
      "<class 'pandas.core.frame.DataFrame'>\n",
      "RangeIndex: 1390 entries, 0 to 1389\n",
      "Data columns (total 12 columns):\n",
      " #   Column                      Non-Null Count  Dtype  \n",
      "---  ------                      --------------  -----  \n",
      " 0   Пол                         1390 non-null   object \n",
      " 1   Сумма.баллов                1390 non-null   int64  \n",
      " 2   ЕГЭ...матем.                1385 non-null   float64\n",
      " 3   ЕГЭ...рус.яз.               1387 non-null   float64\n",
      " 4   Аттестат.с.отличием.оценка  1390 non-null   int64  \n",
      " 5   ГТО.оценка                  1390 non-null   int64  \n",
      " 6   Сочинение.оценка            1390 non-null   int64  \n",
      " 7   Регион                      1390 non-null   object \n",
      " 8   Тип.насел..пункта           1390 non-null   object \n",
      " 9   Дата.рождения               1390 non-null   object \n",
      " 10  День.рождения               1390 non-null   int64  \n",
      " 11  Месяц.рождения              1390 non-null   int64  \n",
      "dtypes: float64(2), int64(6), object(4)\n",
      "memory usage: 130.4+ KB\n"
     ]
    }
   ],
   "source": [
    "priem.info()"
   ]
  },
  {
   "cell_type": "markdown",
   "metadata": {},
   "source": [
    "<h3>Тестируем гипотезу о том, что дни рождения распределины равномерно"
   ]
  },
  {
   "cell_type": "code",
   "execution_count": 6,
   "metadata": {},
   "outputs": [
    {
     "data": {
      "text/plain": [
       "array([45.69863014, 45.69863014, 45.69863014, 45.69863014, 45.69863014,\n",
       "       45.69863014, 45.69863014, 45.69863014, 45.69863014, 45.69863014,\n",
       "       45.69863014, 45.69863014, 45.69863014, 45.69863014, 45.69863014,\n",
       "       45.69863014, 45.69863014, 45.69863014, 45.69863014, 45.69863014,\n",
       "       45.69863014, 45.69863014, 45.69863014, 45.69863014, 45.69863014,\n",
       "       45.69863014, 45.69863014, 45.69863014, 41.89041096, 41.89041096,\n",
       "       26.65753425])"
      ]
     },
     "metadata": {},
     "output_type": "display_data"
    },
    {
     "data": {
      "text/plain": [
       "(31,)"
      ]
     },
     "execution_count": 6,
     "metadata": {},
     "output_type": "execute_result"
    }
   ],
   "source": [
    "days_expected = np.array([12*priem['День.рождения'].count()/365]*28)\n",
    "days_expected = np.insert(days_expected, 28, [11*priem['День.рождения'].count()/365, 11*priem['День.рождения'].count()/365,\n",
    "                                              7*priem['День.рождения'].count()/365])\n",
    "display(days_expected)\n",
    "days_expected.shape"
   ]
  },
  {
   "cell_type": "code",
   "execution_count": 7,
   "metadata": {},
   "outputs": [
    {
     "data": {
      "text/plain": [
       "array([43, 43, 36, 56, 55, 50, 64, 41, 45, 43, 44, 37, 42, 57, 42, 44, 51,\n",
       "       46, 47, 38, 48, 50, 41, 44, 41, 37, 48, 47, 47, 43, 20])"
      ]
     },
     "metadata": {},
     "output_type": "display_data"
    },
    {
     "data": {
      "text/plain": [
       "(31,)"
      ]
     },
     "execution_count": 7,
     "metadata": {},
     "output_type": "execute_result"
    }
   ],
   "source": [
    "days_actual = np.array([priem[priem['День.рождения'] == i]['День.рождения'].count() for i in range(1, 32)])\n",
    "display(days_actual)\n",
    "days_actual.shape"
   ]
  },
  {
   "cell_type": "code",
   "execution_count": 8,
   "metadata": {},
   "outputs": [
    {
     "data": {
      "text/plain": [
       "Power_divergenceResult(statistic=27.780427605967176, pvalue=0.5820711822940035)"
      ]
     },
     "execution_count": 8,
     "metadata": {},
     "output_type": "execute_result"
    }
   ],
   "source": [
    "sts.chisquare(days_actual, days_expected)"
   ]
  },
  {
   "cell_type": "markdown",
   "metadata": {},
   "source": [
    "Уровень принятия $alpha = 0.01 $, pvalue > alpha "
   ]
  },
  {
   "cell_type": "markdown",
   "metadata": {},
   "source": [
    "<h3>Тестируем гипотезу о том, что месяца рождения распределины равномерно"
   ]
  },
  {
   "cell_type": "code",
   "execution_count": 31,
   "metadata": {},
   "outputs": [
    {
     "data": {
      "text/plain": [
       "array([118, 106, 118, 114, 118, 114, 118, 118, 114, 118, 114, 118])"
      ]
     },
     "metadata": {},
     "output_type": "display_data"
    },
    {
     "data": {
      "text/plain": [
       "(12,)"
      ]
     },
     "execution_count": 31,
     "metadata": {},
     "output_type": "execute_result"
    }
   ],
   "source": [
    "mounth_expected = np.array([0]*12)\n",
    "mounth_expected[[0, 2, 4, 6, 7, 9, 11]] = 31*priem['Месяц.рождения'].count()/365\n",
    "mounth_expected[[3, 5, 8, 10]] = 30*priem['Месяц.рождения'].count()/365\n",
    "mounth_expected[1] = 28*priem['Месяц.рождения'].count()/365\n",
    "display(mounth_expected)\n",
    "mounth_expected.shape"
   ]
  },
  {
   "cell_type": "code",
   "execution_count": 32,
   "metadata": {},
   "outputs": [
    {
     "data": {
      "text/plain": [
       "array([121,  97, 107, 106, 132, 124, 116, 127, 132, 117, 103, 108])"
      ]
     },
     "metadata": {},
     "output_type": "display_data"
    },
    {
     "data": {
      "text/plain": [
       "(12,)"
      ]
     },
     "execution_count": 32,
     "metadata": {},
     "output_type": "execute_result"
    }
   ],
   "source": [
    "mounth_actual = np.array([priem[priem['Месяц.рождения'] == i]['Месяц.рождения'].count() for i in range(1, 13)])\n",
    "display(mounth_actual)\n",
    "mounth_actual.shape"
   ]
  },
  {
   "cell_type": "code",
   "execution_count": 33,
   "metadata": {},
   "outputs": [
    {
     "data": {
      "text/plain": [
       "Power_divergenceResult(statistic=10.44523925740158, pvalue=0.49083716799834165)"
      ]
     },
     "execution_count": 33,
     "metadata": {},
     "output_type": "execute_result"
    }
   ],
   "source": [
    "sts.chisquare(mounth_actual, mounth_expected)"
   ]
  },
  {
   "cell_type": "markdown",
   "metadata": {},
   "source": [
    "<h3> H0 : Сумма баллов и Балы гто распределены одинаково"
   ]
  },
  {
   "cell_type": "code",
   "execution_count": 128,
   "metadata": {},
   "outputs": [
    {
     "data": {
      "text/html": [
       "<div>\n",
       "<style scoped>\n",
       "    .dataframe tbody tr th:only-of-type {\n",
       "        vertical-align: middle;\n",
       "    }\n",
       "\n",
       "    .dataframe tbody tr th {\n",
       "        vertical-align: top;\n",
       "    }\n",
       "\n",
       "    .dataframe thead th {\n",
       "        text-align: right;\n",
       "    }\n",
       "</style>\n",
       "<table border=\"1\" class=\"dataframe\">\n",
       "  <thead>\n",
       "    <tr style=\"text-align: right;\">\n",
       "      <th></th>\n",
       "      <th>Пол</th>\n",
       "      <th>Сумма.баллов</th>\n",
       "      <th>ЕГЭ...матем.</th>\n",
       "      <th>ЕГЭ...рус.яз.</th>\n",
       "      <th>Аттестат.с.отличием.оценка</th>\n",
       "      <th>ГТО.оценка</th>\n",
       "      <th>Сочинение.оценка</th>\n",
       "      <th>Регион</th>\n",
       "      <th>Тип.насел..пункта</th>\n",
       "      <th>Дата.рождения</th>\n",
       "      <th>День.рождения</th>\n",
       "      <th>Месяц.рождения</th>\n",
       "    </tr>\n",
       "  </thead>\n",
       "  <tbody>\n",
       "    <tr>\n",
       "      <th>217</th>\n",
       "      <td>ЖЕНСКИЙ</td>\n",
       "      <td>408</td>\n",
       "      <td>100.0</td>\n",
       "      <td>100.0</td>\n",
       "      <td>5</td>\n",
       "      <td>0</td>\n",
       "      <td>3</td>\n",
       "      <td>Московская обл</td>\n",
       "      <td>ГОРОД</td>\n",
       "      <td>22.05.1999</td>\n",
       "      <td>22</td>\n",
       "      <td>5</td>\n",
       "    </tr>\n",
       "  </tbody>\n",
       "</table>\n",
       "</div>"
      ],
      "text/plain": [
       "         Пол  Сумма.баллов  ЕГЭ...матем.  ЕГЭ...рус.яз.  \\\n",
       "217  ЖЕНСКИЙ           408         100.0          100.0   \n",
       "\n",
       "     Аттестат.с.отличием.оценка  ГТО.оценка  Сочинение.оценка          Регион  \\\n",
       "217                           5           0                 3  Московская обл   \n",
       "\n",
       "    Тип.насел..пункта Дата.рождения  День.рождения  Месяц.рождения  \n",
       "217             ГОРОД    22.05.1999             22               5  "
      ]
     },
     "execution_count": 128,
     "metadata": {},
     "output_type": "execute_result"
    }
   ],
   "source": [
    "priem[priem['Сумма.баллов'] == 408]"
   ]
  },
  {
   "cell_type": "code",
   "execution_count": 112,
   "metadata": {},
   "outputs": [
    {
     "data": {
      "text/plain": [
       "21.2"
      ]
     },
     "execution_count": 112,
     "metadata": {},
     "output_type": "execute_result"
    }
   ],
   "source": [
    "(priem['Сумма.баллов'].max() - priem['Сумма.баллов'].min())/10"
   ]
  },
  {
   "cell_type": "code",
   "execution_count": 64,
   "metadata": {},
   "outputs": [
    {
     "data": {
      "text/plain": [
       "196"
      ]
     },
     "execution_count": 64,
     "metadata": {},
     "output_type": "execute_result"
    }
   ],
   "source": [
    "priem['Сумма.баллов'].min()"
   ]
  },
  {
   "cell_type": "code",
   "execution_count": 120,
   "metadata": {},
   "outputs": [],
   "source": [
    "count_GTO = [0]*22\n",
    "GTO = list(map(int, (priem[priem['ГТО.оценка'] != 0]['Сумма.баллов'] - 196)/10))\n",
    "for i in GTO:\n",
    "    count_GTO[i] += 1"
   ]
  },
  {
   "cell_type": "code",
   "execution_count": 124,
   "metadata": {},
   "outputs": [
    {
     "data": {
      "text/plain": [
       "1390"
      ]
     },
     "execution_count": 124,
     "metadata": {},
     "output_type": "execute_result"
    }
   ],
   "source": [
    "count_NoGTO = [0]*22\n",
    "NoGTO = list(map(int, (priem[priem['ГТО.оценка'] == 0]['Сумма.баллов'] - 196)/10))\n",
    "for i in NoGTO:\n",
    "    count_NoGTO[i] += 1\n",
    "sum(count_NoGTO) + sum(count_GTO)"
   ]
  },
  {
   "cell_type": "code",
   "execution_count": 122,
   "metadata": {},
   "outputs": [
    {
     "data": {
      "text/plain": [
       "array([[  0,   0,   1,   0,   2,   5,   3,   3,   7,   9,  14,  14,  21,\n",
       "         17,  19,  18,  21,  13,   4,   6,   2,   0],\n",
       "       [  2,   1,   3,   2,   4,  12,  13,  30,  65,  55,  97, 100, 123,\n",
       "        116, 132, 119,  97,  99,  79,  40,  20,   2]])"
      ]
     },
     "metadata": {},
     "output_type": "display_data"
    },
    {
     "data": {
      "text/plain": [
       "(17.801273249379435,\n",
       " 0.6615431706202923,\n",
       " 21,\n",
       " array([[2.57553957e-01, 1.28776978e-01, 5.15107914e-01, 2.57553957e-01,\n",
       "         7.72661871e-01, 2.18920863e+00, 2.06043165e+00, 4.24964029e+00,\n",
       "         9.27194245e+00, 8.24172662e+00, 1.42942446e+01, 1.46805755e+01,\n",
       "         1.85438849e+01, 1.71273381e+01, 1.94453237e+01, 1.76424460e+01,\n",
       "         1.51956835e+01, 1.44230216e+01, 1.06884892e+01, 5.92374101e+00,\n",
       "         2.83309353e+00, 2.57553957e-01],\n",
       "        [1.74244604e+00, 8.71223022e-01, 3.48489209e+00, 1.74244604e+00,\n",
       "         5.22733813e+00, 1.48107914e+01, 1.39395683e+01, 2.87503597e+01,\n",
       "         6.27280576e+01, 5.57582734e+01, 9.67057554e+01, 9.93194245e+01,\n",
       "         1.25456115e+02, 1.15872662e+02, 1.31554676e+02, 1.19357554e+02,\n",
       "         1.02804317e+02, 9.75769784e+01, 7.23115108e+01, 4.00762590e+01,\n",
       "         1.91669065e+01, 1.74244604e+00]]))"
      ]
     },
     "execution_count": 122,
     "metadata": {},
     "output_type": "execute_result"
    }
   ],
   "source": [
    "GTO = np.array([count_GTO, count_NoGTO])\n",
    "display(GTO)\n",
    "sts.chi2_contingency(GTO)"
   ]
  },
  {
   "cell_type": "markdown",
   "metadata": {},
   "source": [
    "pvalue > 0.01 Не отвергаем H0"
   ]
  },
  {
   "cell_type": "markdown",
   "metadata": {},
   "source": [
    "<h3> H0 : Сумма баллов и Отличный Аттестат распределены одинаково"
   ]
  },
  {
   "cell_type": "code",
   "execution_count": 126,
   "metadata": {},
   "outputs": [
    {
     "data": {
      "text/plain": [
       "1390"
      ]
     },
     "execution_count": 126,
     "metadata": {},
     "output_type": "execute_result"
    }
   ],
   "source": [
    "count_GRE = [0]*22\n",
    "GRE = list(map(int, (priem[priem['Аттестат.с.отличием.оценка'] != 0]['Сумма.баллов'] - 196)/10))\n",
    "for i in GRE:\n",
    "    count_GRE[i] += 1\n",
    "count_NoGRE = [0]*22\n",
    "NoGRE = list(map(int, (priem[priem['Аттестат.с.отличием.оценка'] == 0]['Сумма.баллов'] - 196)/10))\n",
    "for i in NoGRE:\n",
    "    count_NoGRE[i] += 1\n",
    "sum(count_NoGRE) + sum(count_GRE)"
   ]
  },
  {
   "cell_type": "code",
   "execution_count": 127,
   "metadata": {
    "scrolled": true
   },
   "outputs": [
    {
     "data": {
      "text/plain": [
       "array([[ 0,  0,  0,  0,  0,  3,  2,  7, 19, 18, 39, 41, 55, 52, 56, 59,\n",
       "        45, 58, 38, 29, 19,  2],\n",
       "       [ 2,  1,  4,  2,  6, 14, 14, 26, 53, 46, 72, 73, 89, 81, 95, 78,\n",
       "        73, 54, 45, 17,  3,  0]])"
      ]
     },
     "metadata": {},
     "output_type": "display_data"
    },
    {
     "data": {
      "text/plain": [
       "(76.71263973815267,\n",
       " 2.839469945737147e-08,\n",
       " 21,\n",
       " array([[ 0.77985612,  0.38992806,  1.55971223,  0.77985612,  2.33956835,\n",
       "          6.62877698,  6.23884892, 12.8676259 , 28.07482014, 24.95539568,\n",
       "         43.28201439, 44.45179856, 56.14964029, 51.86043165, 58.87913669,\n",
       "         53.42014388, 46.01151079, 43.67194245, 32.36402878, 17.93669065,\n",
       "          8.57841727,  0.77985612],\n",
       "        [ 1.22014388,  0.61007194,  2.44028777,  1.22014388,  3.66043165,\n",
       "         10.37122302,  9.76115108, 20.1323741 , 43.92517986, 39.04460432,\n",
       "         67.71798561, 69.54820144, 87.85035971, 81.13956835, 92.12086331,\n",
       "         83.57985612, 71.98848921, 68.32805755, 50.63597122, 28.06330935,\n",
       "         13.42158273,  1.22014388]]))"
      ]
     },
     "execution_count": 127,
     "metadata": {},
     "output_type": "execute_result"
    }
   ],
   "source": [
    "GRE = np.array([count_GRE, count_NoGRE])\n",
    "display(GRE)\n",
    "sts.chi2_contingency(GRE)"
   ]
  },
  {
   "cell_type": "markdown",
   "metadata": {},
   "source": [
    "pvalue < 0.01 Отвергаем H0"
   ]
  },
  {
   "cell_type": "markdown",
   "metadata": {},
   "source": [
    "<h3> H0 : Сумма баллов и Сочинение распределены одинаково"
   ]
  },
  {
   "cell_type": "code",
   "execution_count": 130,
   "metadata": {},
   "outputs": [
    {
     "data": {
      "text/plain": [
       "1390"
      ]
     },
     "execution_count": 130,
     "metadata": {},
     "output_type": "execute_result"
    }
   ],
   "source": [
    "count_ESSE = [0]*22\n",
    "ESSE = list(map(int, (priem[priem['Сочинение.оценка'] != 0]['Сумма.баллов'] - 196)/10))\n",
    "for i in ESSE:\n",
    "    count_ESSE[i] += 1\n",
    "count_NoESSE = [0]*22\n",
    "NoESSE = list(map(int, (priem[priem['Сочинение.оценка'] == 0]['Сумма.баллов'] - 196)/10))\n",
    "for i in NoESSE:\n",
    "    count_NoESSE[i] += 1\n",
    "sum(count_NoESSE) + sum(count_ESSE)"
   ]
  },
  {
   "cell_type": "code",
   "execution_count": 132,
   "metadata": {
    "scrolled": true
   },
   "outputs": [
    {
     "data": {
      "text/plain": [
       "array([[  0,   1,   2,   2,   6,  15,  12,  30,  67,  60, 102, 105, 125,\n",
       "        123, 136, 132, 105, 104,  81,  45,  22,   2],\n",
       "       [  2,   0,   2,   0,   0,   2,   4,   3,   5,   4,   9,   9,  19,\n",
       "         10,  15,   5,  13,   8,   2,   1,   0,   0]])"
      ]
     },
     "metadata": {},
     "output_type": "display_data"
    },
    {
     "data": {
      "text/plain": [
       "(58.43262834693268,\n",
       " 2.1987772721009152e-05,\n",
       " 21,\n",
       " array([[1.83741007e+00, 9.18705036e-01, 3.67482014e+00, 1.83741007e+00,\n",
       "         5.51223022e+00, 1.56179856e+01, 1.46992806e+01, 3.03172662e+01,\n",
       "         6.61467626e+01, 5.87971223e+01, 1.01976259e+02, 1.04732374e+02,\n",
       "         1.32293525e+02, 1.22187770e+02, 1.38724460e+02, 1.25862590e+02,\n",
       "         1.08407194e+02, 1.02894964e+02, 7.62525180e+01, 4.22604317e+01,\n",
       "         2.02115108e+01, 1.83741007e+00],\n",
       "        [1.62589928e-01, 8.12949640e-02, 3.25179856e-01, 1.62589928e-01,\n",
       "         4.87769784e-01, 1.38201439e+00, 1.30071942e+00, 2.68273381e+00,\n",
       "         5.85323741e+00, 5.20287770e+00, 9.02374101e+00, 9.26762590e+00,\n",
       "         1.17064748e+01, 1.08122302e+01, 1.22755396e+01, 1.11374101e+01,\n",
       "         9.59280576e+00, 9.10503597e+00, 6.74748201e+00, 3.73956835e+00,\n",
       "         1.78848921e+00, 1.62589928e-01]]))"
      ]
     },
     "execution_count": 132,
     "metadata": {},
     "output_type": "execute_result"
    }
   ],
   "source": [
    "ESSE = np.array([count_ESSE, count_NoESSE])\n",
    "display(ESSE)\n",
    "sts.chi2_contingency(ESSE)"
   ]
  },
  {
   "cell_type": "markdown",
   "metadata": {},
   "source": [
    "pvalue < 0.01 Отвергаем H0"
   ]
  },
  {
   "cell_type": "markdown",
   "metadata": {},
   "source": [
    "<h3>Тестируем гипотезу о том, что кофе в среднем выбирают в 2 раза чаще чая"
   ]
  },
  {
   "cell_type": "code",
   "execution_count": 12,
   "metadata": {},
   "outputs": [
    {
     "data": {
      "text/plain": [
       "Power_divergenceResult(statistic=0.13066202090592335, pvalue=0.9367573355824979)"
      ]
     },
     "execution_count": 12,
     "metadata": {},
     "output_type": "execute_result"
    }
   ],
   "source": [
    "coffee_actual = np.array([282, 579, 139])\n",
    "coffee_expected = np.array([287, 574, 139])\n",
    "sts.chisquare(coffee_actual, coffee_expected)"
   ]
  },
  {
   "cell_type": "markdown",
   "metadata": {},
   "source": [
    "pvalue > 0.05 Не отвергаем H0"
   ]
  },
  {
   "cell_type": "code",
   "execution_count": 61,
   "metadata": {},
   "outputs": [
    {
     "data": {
      "text/plain": [
       "array([534, 382,  84], dtype=int64)"
      ]
     },
     "execution_count": 61,
     "metadata": {},
     "output_type": "execute_result"
    }
   ],
   "source": [
    "# оценкой p является ОМП \n",
    "p = 282/1000\n",
    "# X = 0 - tea , X = 1 - coffee , X = 2 - others \n",
    "elements = np.array([0, 1, 2])\n",
    "probabilites = np.array([p, 2*p, 1 - 3*p])\n",
    "distrib = sts.rv_discrete(values=(elements, probabilites))\n",
    "sample = sts.binom.rvs(2, p, size=1000)\n",
    "np.bincount(sample)"
   ]
  },
  {
   "cell_type": "code",
   "execution_count": 57,
   "metadata": {},
   "outputs": [],
   "source": [
    "points = [i/100 for i in range(1,101)]"
   ]
  },
  {
   "cell_type": "code",
   "execution_count": 54,
   "metadata": {},
   "outputs": [
    {
     "data": {
      "image/png": "[encoded data removed]",
      "text/plain": [
       "<Figure size 1080x720 with 1 Axes>"
      ]
     },
     "metadata": {},
     "output_type": "display_data"
    }
   ],
   "source": [
    "pvalue1, pvalue2, pvalue3 = [], [], []\n",
    "\n",
    "\n",
    "for i in range(100):\n",
    "    \n",
    "    # 1 \n",
    "    sample = distrib.rvs(size=1000)\n",
    "    pvalue1.append(sts.chisquare(np.bincount(sample), coffee_expected)[1])\n",
    "    \n",
    "    #2\n",
    "    sample = sts.randint.rvs(low=0, high=3, size=1000)\n",
    "    pvalue2.append(sts.chisquare(np.bincount(sample), coffee_expected)[1])\n",
    "    \n",
    "    #3\n",
    "    sample = sts.binom.rvs(2, p, size=1000)\n",
    "    pvalue3.append(sts.chisquare(np.bincount(sample), coffee_expected)[1])\n",
    "\n",
    "    \n",
    "    \n",
    "pvalue1.sort()\n",
    "pvalue2.sort()\n",
    "pvalue3.sort()\n",
    "\n",
    "fig, ax = plt.subplots(figsize=(15, 10))\n",
    "domain = np.linspace(0, 1, 2)\n",
    "\n",
    "ax.plot(domain, domain, '--')\n",
    "ax.plot(pvalue1, points, label='p_value_1_dist')\n",
    "ax.plot(pvalue2, points, label='p_value_2_dist')\n",
    "ax.plot(pvalue3, points, label='p_value_3_dist')\n",
    "\n",
    "ax.legend()\n",
    "ax.set_xlabel('pvalue')\n",
    "ax.set_title('P-values plot')\n",
    "plt.show()"
   ]
  },
  {
   "cell_type": "code",
   "execution_count": null,
   "metadata": {},
   "outputs": [],
   "source": []
  }
 ],
 "metadata": {
  "kernelspec": {
   "display_name": "Python 3",
   "language": "python",
   "name": "python3"
  },
  "language_info": {
   "codemirror_mode": {
    "name": "ipython",
    "version": 3
   },
   "file_extension": ".py",
   "mimetype": "text/x-python",
   "name": "python",
   "nbconvert_exporter": "python",
   "pygments_lexer": "ipython3",
   "version": "3.7.6"
  }
 },
 "nbformat": 4,
 "nbformat_minor": 4
}
